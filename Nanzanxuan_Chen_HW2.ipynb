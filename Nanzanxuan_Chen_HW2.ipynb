{
 "cells": [
  {
   "cell_type": "code",
   "execution_count": 1,
   "id": "b71eedb7",
   "metadata": {},
   "outputs": [],
   "source": [
    "import pandas as pd"
   ]
  },
  {
   "cell_type": "code",
   "execution_count": 2,
   "id": "3ec09eed",
   "metadata": {},
   "outputs": [
    {
     "data": {
      "text/html": [
       "<div>\n",
       "<style scoped>\n",
       "    .dataframe tbody tr th:only-of-type {\n",
       "        vertical-align: middle;\n",
       "    }\n",
       "\n",
       "    .dataframe tbody tr th {\n",
       "        vertical-align: top;\n",
       "    }\n",
       "\n",
       "    .dataframe thead th {\n",
       "        text-align: right;\n",
       "    }\n",
       "</style>\n",
       "<table border=\"1\" class=\"dataframe\">\n",
       "  <thead>\n",
       "    <tr style=\"text-align: right;\">\n",
       "      <th></th>\n",
       "      <th>text_no</th>\n",
       "      <th>review_text</th>\n",
       "      <th>labeled_sentiment</th>\n",
       "    </tr>\n",
       "  </thead>\n",
       "  <tbody>\n",
       "    <tr>\n",
       "      <th>0</th>\n",
       "      <td>1</td>\n",
       "      <td>films adapted from comic books have had plenty...</td>\n",
       "      <td>1</td>\n",
       "    </tr>\n",
       "    <tr>\n",
       "      <th>1</th>\n",
       "      <td>2</td>\n",
       "      <td>every now and then a movie comes along from a ...</td>\n",
       "      <td>1</td>\n",
       "    </tr>\n",
       "    <tr>\n",
       "      <th>2</th>\n",
       "      <td>3</td>\n",
       "      <td>you've got mail works alot better than it dese...</td>\n",
       "      <td>1</td>\n",
       "    </tr>\n",
       "    <tr>\n",
       "      <th>3</th>\n",
       "      <td>4</td>\n",
       "      <td>jaws   is a rare film that grabs your attent...</td>\n",
       "      <td>1</td>\n",
       "    </tr>\n",
       "    <tr>\n",
       "      <th>4</th>\n",
       "      <td>5</td>\n",
       "      <td>moviemaking is a lot like being the general ma...</td>\n",
       "      <td>1</td>\n",
       "    </tr>\n",
       "  </tbody>\n",
       "</table>\n",
       "</div>"
      ],
      "text/plain": [
       "   text_no                                        review_text  \\\n",
       "0        1  films adapted from comic books have had plenty...   \n",
       "1        2  every now and then a movie comes along from a ...   \n",
       "2        3  you've got mail works alot better than it dese...   \n",
       "3        4    jaws   is a rare film that grabs your attent...   \n",
       "4        5  moviemaking is a lot like being the general ma...   \n",
       "\n",
       "   labeled_sentiment  \n",
       "0                  1  \n",
       "1                  1  \n",
       "2                  1  \n",
       "3                  1  \n",
       "4                  1  "
      ]
     },
     "execution_count": 2,
     "metadata": {},
     "output_type": "execute_result"
    }
   ],
   "source": [
    "# read file\n",
    "df = pd.read_table(\"MovieReview-Sample.csv\",sep=',',header = None, names = ['text_no','review_text','labeled_sentiment'])\n",
    "df.head()"
   ]
  },
  {
   "cell_type": "code",
   "execution_count": 3,
   "id": "af167f71",
   "metadata": {},
   "outputs": [],
   "source": [
    "data = df.review_text.str.lower()"
   ]
  },
  {
   "cell_type": "code",
   "execution_count": 4,
   "id": "2fa9bc26",
   "metadata": {},
   "outputs": [],
   "source": [
    "#Dictionary Approach\n",
    "def count_pos_neg(data, positive_dict, negative_dict):\n",
    "# count of positive and negative words that appeared in each message\n",
    "# net count which is calculated by positive count subtracting negative count. \n",
    "    poscnt = []\n",
    "    negcnt = []\n",
    "    netcnt = []\n",
    "\n",
    "    for nrow in range(0,len(data)):\n",
    "        text = data[nrow]\n",
    "        \n",
    "        qa = 0\n",
    "        qb = 0\n",
    "\n",
    "        for word in positive_dict :\n",
    "            if (word in text) :\n",
    "                qa = qa + 1\n",
    "\n",
    "        for word in negative_dict :\n",
    "            if (word in text) :\n",
    "                qb = qb + 1\n",
    "\n",
    "        qc = qa - qb\n",
    "\n",
    "        poscnt.append(qa)\n",
    "        negcnt.append(qb)\n",
    "        netcnt.append(qc)\n",
    "\n",
    "    return (poscnt, negcnt, netcnt)"
   ]
  },
  {
   "cell_type": "code",
   "execution_count": 5,
   "id": "2c6953c7",
   "metadata": {},
   "outputs": [
    {
     "name": "stderr",
     "output_type": "stream",
     "text": [
      "[nltk_data] Downloading package opinion_lexicon to\n",
      "[nltk_data]     C:\\Users\\ASUS\\AppData\\Roaming\\nltk_data...\n",
      "[nltk_data]   Package opinion_lexicon is already up-to-date!\n"
     ]
    },
    {
     "data": {
      "text/plain": [
       "True"
      ]
     },
     "execution_count": 5,
     "metadata": {},
     "output_type": "execute_result"
    }
   ],
   "source": [
    "#Bing Liu's Dictionary\n",
    "import nltk\n",
    "nltk.download(\"opinion_lexicon\")"
   ]
  },
  {
   "cell_type": "code",
   "execution_count": 6,
   "id": "04dbc91c",
   "metadata": {},
   "outputs": [],
   "source": [
    "#import Bing Liu's dictionary\n",
    "from nltk.corpus import opinion_lexicon"
   ]
  },
  {
   "cell_type": "code",
   "execution_count": 7,
   "id": "0bc6a36c",
   "metadata": {},
   "outputs": [],
   "source": [
    "pos_list_BL=set(opinion_lexicon.positive())\n",
    "neg_list_BL=set(opinion_lexicon.negative())"
   ]
  },
  {
   "cell_type": "code",
   "execution_count": 8,
   "id": "f15831a8",
   "metadata": {},
   "outputs": [],
   "source": [
    "df['poscnt_BL'], df['negcnt_BL'], df['netcnt_BL'] = count_pos_neg(data, pos_list_BL, neg_list_BL)"
   ]
  },
  {
   "cell_type": "code",
   "execution_count": 9,
   "id": "ab969252",
   "metadata": {},
   "outputs": [
    {
     "data": {
      "text/html": [
       "<div>\n",
       "<style scoped>\n",
       "    .dataframe tbody tr th:only-of-type {\n",
       "        vertical-align: middle;\n",
       "    }\n",
       "\n",
       "    .dataframe tbody tr th {\n",
       "        vertical-align: top;\n",
       "    }\n",
       "\n",
       "    .dataframe thead th {\n",
       "        text-align: right;\n",
       "    }\n",
       "</style>\n",
       "<table border=\"1\" class=\"dataframe\">\n",
       "  <thead>\n",
       "    <tr style=\"text-align: right;\">\n",
       "      <th></th>\n",
       "      <th>review_text</th>\n",
       "      <th>poscnt_BL</th>\n",
       "      <th>negcnt_BL</th>\n",
       "      <th>netcnt_BL</th>\n",
       "      <th>labeled_sentiment</th>\n",
       "    </tr>\n",
       "  </thead>\n",
       "  <tbody>\n",
       "    <tr>\n",
       "      <th>0</th>\n",
       "      <td>films adapted from comic books have had plenty...</td>\n",
       "      <td>16</td>\n",
       "      <td>36</td>\n",
       "      <td>-20</td>\n",
       "      <td>1</td>\n",
       "    </tr>\n",
       "    <tr>\n",
       "      <th>1</th>\n",
       "      <td>every now and then a movie comes along from a ...</td>\n",
       "      <td>21</td>\n",
       "      <td>33</td>\n",
       "      <td>-12</td>\n",
       "      <td>1</td>\n",
       "    </tr>\n",
       "    <tr>\n",
       "      <th>2</th>\n",
       "      <td>you've got mail works alot better than it dese...</td>\n",
       "      <td>32</td>\n",
       "      <td>28</td>\n",
       "      <td>4</td>\n",
       "      <td>1</td>\n",
       "    </tr>\n",
       "    <tr>\n",
       "      <th>3</th>\n",
       "      <td>jaws   is a rare film that grabs your attent...</td>\n",
       "      <td>20</td>\n",
       "      <td>41</td>\n",
       "      <td>-21</td>\n",
       "      <td>1</td>\n",
       "    </tr>\n",
       "    <tr>\n",
       "      <th>4</th>\n",
       "      <td>moviemaking is a lot like being the general ma...</td>\n",
       "      <td>17</td>\n",
       "      <td>24</td>\n",
       "      <td>-7</td>\n",
       "      <td>1</td>\n",
       "    </tr>\n",
       "  </tbody>\n",
       "</table>\n",
       "</div>"
      ],
      "text/plain": [
       "                                         review_text  poscnt_BL  negcnt_BL  \\\n",
       "0  films adapted from comic books have had plenty...         16         36   \n",
       "1  every now and then a movie comes along from a ...         21         33   \n",
       "2  you've got mail works alot better than it dese...         32         28   \n",
       "3    jaws   is a rare film that grabs your attent...         20         41   \n",
       "4  moviemaking is a lot like being the general ma...         17         24   \n",
       "\n",
       "   netcnt_BL  labeled_sentiment  \n",
       "0        -20                  1  \n",
       "1        -12                  1  \n",
       "2          4                  1  \n",
       "3        -21                  1  \n",
       "4         -7                  1  "
      ]
     },
     "execution_count": 9,
     "metadata": {},
     "output_type": "execute_result"
    }
   ],
   "source": [
    "#show the df in BL\n",
    "df[['review_text','poscnt_BL','negcnt_BL','netcnt_BL','labeled_sentiment']].head(5)"
   ]
  },
  {
   "cell_type": "code",
   "execution_count": 10,
   "id": "d068b7f3",
   "metadata": {},
   "outputs": [],
   "source": [
    "#LM Dictionary\n",
    "def read_local_dictionary(file):\n",
    "    # create dictionary list\n",
    "    words_dict = []\n",
    "    with open(file, \"r\") as f: \n",
    "        for line in f:\n",
    "            t = line.strip().lower()\n",
    "            words_dict.append(t)\n",
    "    return words_dict"
   ]
  },
  {
   "cell_type": "code",
   "execution_count": 11,
   "id": "f9300154",
   "metadata": {},
   "outputs": [],
   "source": [
    "pos_list_LM = read_local_dictionary('positive-words-LM.txt')\n",
    "neg_list_LM = read_local_dictionary('negative-words-LM.txt')"
   ]
  },
  {
   "cell_type": "code",
   "execution_count": 12,
   "id": "fb53bf6e",
   "metadata": {},
   "outputs": [],
   "source": [
    "df['poscnt_LM'], df['negcnt_LM'], df['netcnt_LM'] = count_pos_neg(data, pos_list_LM, neg_list_LM)"
   ]
  },
  {
   "cell_type": "code",
   "execution_count": 13,
   "id": "dd56591b",
   "metadata": {},
   "outputs": [
    {
     "data": {
      "text/html": [
       "<div>\n",
       "<style scoped>\n",
       "    .dataframe tbody tr th:only-of-type {\n",
       "        vertical-align: middle;\n",
       "    }\n",
       "\n",
       "    .dataframe tbody tr th {\n",
       "        vertical-align: top;\n",
       "    }\n",
       "\n",
       "    .dataframe thead th {\n",
       "        text-align: right;\n",
       "    }\n",
       "</style>\n",
       "<table border=\"1\" class=\"dataframe\">\n",
       "  <thead>\n",
       "    <tr style=\"text-align: right;\">\n",
       "      <th></th>\n",
       "      <th>review_text</th>\n",
       "      <th>poscnt_LM</th>\n",
       "      <th>negcnt_LM</th>\n",
       "      <th>netcnt_LM</th>\n",
       "    </tr>\n",
       "  </thead>\n",
       "  <tbody>\n",
       "    <tr>\n",
       "      <th>0</th>\n",
       "      <td>films adapted from comic books have had plenty...</td>\n",
       "      <td>5</td>\n",
       "      <td>11</td>\n",
       "      <td>-6</td>\n",
       "    </tr>\n",
       "    <tr>\n",
       "      <th>1</th>\n",
       "      <td>every now and then a movie comes along from a ...</td>\n",
       "      <td>7</td>\n",
       "      <td>12</td>\n",
       "      <td>-5</td>\n",
       "    </tr>\n",
       "    <tr>\n",
       "      <th>2</th>\n",
       "      <td>you've got mail works alot better than it dese...</td>\n",
       "      <td>12</td>\n",
       "      <td>7</td>\n",
       "      <td>5</td>\n",
       "    </tr>\n",
       "    <tr>\n",
       "      <th>3</th>\n",
       "      <td>jaws   is a rare film that grabs your attent...</td>\n",
       "      <td>5</td>\n",
       "      <td>14</td>\n",
       "      <td>-9</td>\n",
       "    </tr>\n",
       "    <tr>\n",
       "      <th>4</th>\n",
       "      <td>moviemaking is a lot like being the general ma...</td>\n",
       "      <td>1</td>\n",
       "      <td>6</td>\n",
       "      <td>-5</td>\n",
       "    </tr>\n",
       "  </tbody>\n",
       "</table>\n",
       "</div>"
      ],
      "text/plain": [
       "                                         review_text  poscnt_LM  negcnt_LM  \\\n",
       "0  films adapted from comic books have had plenty...          5         11   \n",
       "1  every now and then a movie comes along from a ...          7         12   \n",
       "2  you've got mail works alot better than it dese...         12          7   \n",
       "3    jaws   is a rare film that grabs your attent...          5         14   \n",
       "4  moviemaking is a lot like being the general ma...          1          6   \n",
       "\n",
       "   netcnt_LM  \n",
       "0         -6  \n",
       "1         -5  \n",
       "2          5  \n",
       "3         -9  \n",
       "4         -5  "
      ]
     },
     "execution_count": 13,
     "metadata": {},
     "output_type": "execute_result"
    }
   ],
   "source": [
    "#show the df in LM\n",
    "df[['review_text','poscnt_LM','negcnt_LM','netcnt_LM']].head(5)"
   ]
  },
  {
   "cell_type": "code",
   "execution_count": 14,
   "id": "9a53a2f6",
   "metadata": {},
   "outputs": [],
   "source": [
    "#TextBlob\n",
    "#!pip install textblob"
   ]
  },
  {
   "cell_type": "code",
   "execution_count": 15,
   "id": "915194c7",
   "metadata": {},
   "outputs": [],
   "source": [
    "from textblob import TextBlob"
   ]
  },
  {
   "cell_type": "code",
   "execution_count": 16,
   "id": "31add598",
   "metadata": {},
   "outputs": [],
   "source": [
    "df[\"score_TextBlob\"] = df[\"review_text\"].map(lambda x:TextBlob(x).sentiment.polarity)"
   ]
  },
  {
   "cell_type": "code",
   "execution_count": 17,
   "id": "788f1e24",
   "metadata": {},
   "outputs": [
    {
     "data": {
      "text/html": [
       "<div>\n",
       "<style scoped>\n",
       "    .dataframe tbody tr th:only-of-type {\n",
       "        vertical-align: middle;\n",
       "    }\n",
       "\n",
       "    .dataframe tbody tr th {\n",
       "        vertical-align: top;\n",
       "    }\n",
       "\n",
       "    .dataframe thead th {\n",
       "        text-align: right;\n",
       "    }\n",
       "</style>\n",
       "<table border=\"1\" class=\"dataframe\">\n",
       "  <thead>\n",
       "    <tr style=\"text-align: right;\">\n",
       "      <th></th>\n",
       "      <th>review_text</th>\n",
       "      <th>score_TextBlob</th>\n",
       "    </tr>\n",
       "  </thead>\n",
       "  <tbody>\n",
       "    <tr>\n",
       "      <th>0</th>\n",
       "      <td>films adapted from comic books have had plenty...</td>\n",
       "      <td>-0.061036</td>\n",
       "    </tr>\n",
       "    <tr>\n",
       "      <th>1</th>\n",
       "      <td>every now and then a movie comes along from a ...</td>\n",
       "      <td>0.088390</td>\n",
       "    </tr>\n",
       "    <tr>\n",
       "      <th>2</th>\n",
       "      <td>you've got mail works alot better than it dese...</td>\n",
       "      <td>0.081941</td>\n",
       "    </tr>\n",
       "    <tr>\n",
       "      <th>3</th>\n",
       "      <td>jaws   is a rare film that grabs your attent...</td>\n",
       "      <td>0.066679</td>\n",
       "    </tr>\n",
       "    <tr>\n",
       "      <th>4</th>\n",
       "      <td>moviemaking is a lot like being the general ma...</td>\n",
       "      <td>0.054987</td>\n",
       "    </tr>\n",
       "  </tbody>\n",
       "</table>\n",
       "</div>"
      ],
      "text/plain": [
       "                                         review_text  score_TextBlob\n",
       "0  films adapted from comic books have had plenty...       -0.061036\n",
       "1  every now and then a movie comes along from a ...        0.088390\n",
       "2  you've got mail works alot better than it dese...        0.081941\n",
       "3    jaws   is a rare film that grabs your attent...        0.066679\n",
       "4  moviemaking is a lot like being the general ma...        0.054987"
      ]
     },
     "execution_count": 17,
     "metadata": {},
     "output_type": "execute_result"
    }
   ],
   "source": [
    "#show the df in TB\n",
    "df[[\"review_text\",\"score_TextBlob\"]].head(5)"
   ]
  },
  {
   "cell_type": "code",
   "execution_count": 18,
   "id": "cdacd213",
   "metadata": {},
   "outputs": [],
   "source": [
    "#Vader\n",
    "#!pip install vadersentiment"
   ]
  },
  {
   "cell_type": "code",
   "execution_count": 19,
   "id": "f8054667",
   "metadata": {},
   "outputs": [],
   "source": [
    "from vaderSentiment.vaderSentiment import SentimentIntensityAnalyzer"
   ]
  },
  {
   "cell_type": "code",
   "execution_count": 20,
   "id": "41ee60c0",
   "metadata": {},
   "outputs": [],
   "source": [
    "analyzer = SentimentIntensityAnalyzer()\n",
    "scores = [analyzer.polarity_scores(sentence) for sentence in data]"
   ]
  },
  {
   "cell_type": "code",
   "execution_count": 21,
   "id": "1fc86cd1",
   "metadata": {},
   "outputs": [],
   "source": [
    "neg_s = [i[\"neg\"] for i in scores]\n",
    "neu_s = [i[\"neu\"] for i in scores]\n",
    "pos_s = [i[\"pos\"] for i in scores]\n",
    "compound_s = [i[\"compound\"] for i in scores]"
   ]
  },
  {
   "cell_type": "code",
   "execution_count": 22,
   "id": "c083e5fc",
   "metadata": {},
   "outputs": [],
   "source": [
    "df['negscore_Vader'], df['neuscore_Vader'], df['posscore_Vader'], df['compound_Vader'] = neg_s, neu_s, pos_s, compound_s"
   ]
  },
  {
   "cell_type": "code",
   "execution_count": 23,
   "id": "f9c88f10",
   "metadata": {},
   "outputs": [
    {
     "data": {
      "text/html": [
       "<div>\n",
       "<style scoped>\n",
       "    .dataframe tbody tr th:only-of-type {\n",
       "        vertical-align: middle;\n",
       "    }\n",
       "\n",
       "    .dataframe tbody tr th {\n",
       "        vertical-align: top;\n",
       "    }\n",
       "\n",
       "    .dataframe thead th {\n",
       "        text-align: right;\n",
       "    }\n",
       "</style>\n",
       "<table border=\"1\" class=\"dataframe\">\n",
       "  <thead>\n",
       "    <tr style=\"text-align: right;\">\n",
       "      <th></th>\n",
       "      <th>review_text</th>\n",
       "      <th>negscore_Vader</th>\n",
       "      <th>neuscore_Vader</th>\n",
       "      <th>posscore_Vader</th>\n",
       "      <th>compound_Vader</th>\n",
       "    </tr>\n",
       "  </thead>\n",
       "  <tbody>\n",
       "    <tr>\n",
       "      <th>0</th>\n",
       "      <td>films adapted from comic books have had plenty...</td>\n",
       "      <td>0.138</td>\n",
       "      <td>0.802</td>\n",
       "      <td>0.060</td>\n",
       "      <td>-0.9905</td>\n",
       "    </tr>\n",
       "    <tr>\n",
       "      <th>1</th>\n",
       "      <td>every now and then a movie comes along from a ...</td>\n",
       "      <td>0.069</td>\n",
       "      <td>0.833</td>\n",
       "      <td>0.098</td>\n",
       "      <td>0.8319</td>\n",
       "    </tr>\n",
       "    <tr>\n",
       "      <th>2</th>\n",
       "      <td>you've got mail works alot better than it dese...</td>\n",
       "      <td>0.075</td>\n",
       "      <td>0.765</td>\n",
       "      <td>0.160</td>\n",
       "      <td>0.9887</td>\n",
       "    </tr>\n",
       "    <tr>\n",
       "      <th>3</th>\n",
       "      <td>jaws   is a rare film that grabs your attent...</td>\n",
       "      <td>0.085</td>\n",
       "      <td>0.806</td>\n",
       "      <td>0.109</td>\n",
       "      <td>0.9373</td>\n",
       "    </tr>\n",
       "    <tr>\n",
       "      <th>4</th>\n",
       "      <td>moviemaking is a lot like being the general ma...</td>\n",
       "      <td>0.037</td>\n",
       "      <td>0.849</td>\n",
       "      <td>0.114</td>\n",
       "      <td>0.9819</td>\n",
       "    </tr>\n",
       "  </tbody>\n",
       "</table>\n",
       "</div>"
      ],
      "text/plain": [
       "                                         review_text  negscore_Vader  \\\n",
       "0  films adapted from comic books have had plenty...           0.138   \n",
       "1  every now and then a movie comes along from a ...           0.069   \n",
       "2  you've got mail works alot better than it dese...           0.075   \n",
       "3    jaws   is a rare film that grabs your attent...           0.085   \n",
       "4  moviemaking is a lot like being the general ma...           0.037   \n",
       "\n",
       "   neuscore_Vader  posscore_Vader  compound_Vader  \n",
       "0           0.802           0.060         -0.9905  \n",
       "1           0.833           0.098          0.8319  \n",
       "2           0.765           0.160          0.9887  \n",
       "3           0.806           0.109          0.9373  \n",
       "4           0.849           0.114          0.9819  "
      ]
     },
     "execution_count": 23,
     "metadata": {},
     "output_type": "execute_result"
    }
   ],
   "source": [
    "#show the df in vader\n",
    "df[['review_text','negscore_Vader','neuscore_Vader','posscore_Vader','compound_Vader']].head(5)"
   ]
  },
  {
   "cell_type": "code",
   "execution_count": 24,
   "id": "f8b6d061",
   "metadata": {},
   "outputs": [
    {
     "data": {
      "text/html": [
       "<div>\n",
       "<style scoped>\n",
       "    .dataframe tbody tr th:only-of-type {\n",
       "        vertical-align: middle;\n",
       "    }\n",
       "\n",
       "    .dataframe tbody tr th {\n",
       "        vertical-align: top;\n",
       "    }\n",
       "\n",
       "    .dataframe thead th {\n",
       "        text-align: right;\n",
       "    }\n",
       "</style>\n",
       "<table border=\"1\" class=\"dataframe\">\n",
       "  <thead>\n",
       "    <tr style=\"text-align: right;\">\n",
       "      <th></th>\n",
       "      <th>text_no</th>\n",
       "      <th>review_text</th>\n",
       "      <th>labeled_sentiment</th>\n",
       "      <th>poscnt_BL</th>\n",
       "      <th>negcnt_BL</th>\n",
       "      <th>netcnt_BL</th>\n",
       "      <th>poscnt_LM</th>\n",
       "      <th>negcnt_LM</th>\n",
       "      <th>netcnt_LM</th>\n",
       "      <th>score_TextBlob</th>\n",
       "      <th>negscore_Vader</th>\n",
       "      <th>neuscore_Vader</th>\n",
       "      <th>posscore_Vader</th>\n",
       "      <th>compound_Vader</th>\n",
       "    </tr>\n",
       "  </thead>\n",
       "  <tbody>\n",
       "    <tr>\n",
       "      <th>0</th>\n",
       "      <td>1</td>\n",
       "      <td>films adapted from comic books have had plenty...</td>\n",
       "      <td>1</td>\n",
       "      <td>16</td>\n",
       "      <td>36</td>\n",
       "      <td>-20</td>\n",
       "      <td>5</td>\n",
       "      <td>11</td>\n",
       "      <td>-6</td>\n",
       "      <td>-0.061036</td>\n",
       "      <td>0.138</td>\n",
       "      <td>0.802</td>\n",
       "      <td>0.060</td>\n",
       "      <td>-0.9905</td>\n",
       "    </tr>\n",
       "    <tr>\n",
       "      <th>1</th>\n",
       "      <td>2</td>\n",
       "      <td>every now and then a movie comes along from a ...</td>\n",
       "      <td>1</td>\n",
       "      <td>21</td>\n",
       "      <td>33</td>\n",
       "      <td>-12</td>\n",
       "      <td>7</td>\n",
       "      <td>12</td>\n",
       "      <td>-5</td>\n",
       "      <td>0.088390</td>\n",
       "      <td>0.069</td>\n",
       "      <td>0.833</td>\n",
       "      <td>0.098</td>\n",
       "      <td>0.8319</td>\n",
       "    </tr>\n",
       "    <tr>\n",
       "      <th>2</th>\n",
       "      <td>3</td>\n",
       "      <td>you've got mail works alot better than it dese...</td>\n",
       "      <td>1</td>\n",
       "      <td>32</td>\n",
       "      <td>28</td>\n",
       "      <td>4</td>\n",
       "      <td>12</td>\n",
       "      <td>7</td>\n",
       "      <td>5</td>\n",
       "      <td>0.081941</td>\n",
       "      <td>0.075</td>\n",
       "      <td>0.765</td>\n",
       "      <td>0.160</td>\n",
       "      <td>0.9887</td>\n",
       "    </tr>\n",
       "    <tr>\n",
       "      <th>3</th>\n",
       "      <td>4</td>\n",
       "      <td>jaws   is a rare film that grabs your attent...</td>\n",
       "      <td>1</td>\n",
       "      <td>20</td>\n",
       "      <td>41</td>\n",
       "      <td>-21</td>\n",
       "      <td>5</td>\n",
       "      <td>14</td>\n",
       "      <td>-9</td>\n",
       "      <td>0.066679</td>\n",
       "      <td>0.085</td>\n",
       "      <td>0.806</td>\n",
       "      <td>0.109</td>\n",
       "      <td>0.9373</td>\n",
       "    </tr>\n",
       "    <tr>\n",
       "      <th>4</th>\n",
       "      <td>5</td>\n",
       "      <td>moviemaking is a lot like being the general ma...</td>\n",
       "      <td>1</td>\n",
       "      <td>17</td>\n",
       "      <td>24</td>\n",
       "      <td>-7</td>\n",
       "      <td>1</td>\n",
       "      <td>6</td>\n",
       "      <td>-5</td>\n",
       "      <td>0.054987</td>\n",
       "      <td>0.037</td>\n",
       "      <td>0.849</td>\n",
       "      <td>0.114</td>\n",
       "      <td>0.9819</td>\n",
       "    </tr>\n",
       "  </tbody>\n",
       "</table>\n",
       "</div>"
      ],
      "text/plain": [
       "   text_no                                        review_text  \\\n",
       "0        1  films adapted from comic books have had plenty...   \n",
       "1        2  every now and then a movie comes along from a ...   \n",
       "2        3  you've got mail works alot better than it dese...   \n",
       "3        4    jaws   is a rare film that grabs your attent...   \n",
       "4        5  moviemaking is a lot like being the general ma...   \n",
       "\n",
       "   labeled_sentiment  poscnt_BL  negcnt_BL  netcnt_BL  poscnt_LM  negcnt_LM  \\\n",
       "0                  1         16         36        -20          5         11   \n",
       "1                  1         21         33        -12          7         12   \n",
       "2                  1         32         28          4         12          7   \n",
       "3                  1         20         41        -21          5         14   \n",
       "4                  1         17         24         -7          1          6   \n",
       "\n",
       "   netcnt_LM  score_TextBlob  negscore_Vader  neuscore_Vader  posscore_Vader  \\\n",
       "0         -6       -0.061036           0.138           0.802           0.060   \n",
       "1         -5        0.088390           0.069           0.833           0.098   \n",
       "2          5        0.081941           0.075           0.765           0.160   \n",
       "3         -9        0.066679           0.085           0.806           0.109   \n",
       "4         -5        0.054987           0.037           0.849           0.114   \n",
       "\n",
       "   compound_Vader  \n",
       "0         -0.9905  \n",
       "1          0.8319  \n",
       "2          0.9887  \n",
       "3          0.9373  \n",
       "4          0.9819  "
      ]
     },
     "execution_count": 24,
     "metadata": {},
     "output_type": "execute_result"
    }
   ],
   "source": [
    "#show the df in all\n",
    "df.head()"
   ]
  },
  {
   "cell_type": "code",
   "execution_count": 25,
   "id": "f4bfa16b",
   "metadata": {},
   "outputs": [
    {
     "data": {
      "text/html": [
       "<div>\n",
       "<style scoped>\n",
       "    .dataframe tbody tr th:only-of-type {\n",
       "        vertical-align: middle;\n",
       "    }\n",
       "\n",
       "    .dataframe tbody tr th {\n",
       "        vertical-align: top;\n",
       "    }\n",
       "\n",
       "    .dataframe thead th {\n",
       "        text-align: right;\n",
       "    }\n",
       "</style>\n",
       "<table border=\"1\" class=\"dataframe\">\n",
       "  <thead>\n",
       "    <tr style=\"text-align: right;\">\n",
       "      <th></th>\n",
       "      <th>labeled_sentiment</th>\n",
       "      <th>review_text</th>\n",
       "      <th>netcnt_BL</th>\n",
       "      <th>netcnt_LM</th>\n",
       "      <th>score_TextBlob</th>\n",
       "      <th>compound_Vader</th>\n",
       "    </tr>\n",
       "  </thead>\n",
       "  <tbody>\n",
       "    <tr>\n",
       "      <th>0</th>\n",
       "      <td>1</td>\n",
       "      <td>films adapted from comic books have had plenty...</td>\n",
       "      <td>-20</td>\n",
       "      <td>-6</td>\n",
       "      <td>-0.061036</td>\n",
       "      <td>-0.9905</td>\n",
       "    </tr>\n",
       "    <tr>\n",
       "      <th>1</th>\n",
       "      <td>1</td>\n",
       "      <td>every now and then a movie comes along from a ...</td>\n",
       "      <td>-12</td>\n",
       "      <td>-5</td>\n",
       "      <td>0.088390</td>\n",
       "      <td>0.8319</td>\n",
       "    </tr>\n",
       "    <tr>\n",
       "      <th>2</th>\n",
       "      <td>1</td>\n",
       "      <td>you've got mail works alot better than it dese...</td>\n",
       "      <td>4</td>\n",
       "      <td>5</td>\n",
       "      <td>0.081941</td>\n",
       "      <td>0.9887</td>\n",
       "    </tr>\n",
       "    <tr>\n",
       "      <th>3</th>\n",
       "      <td>1</td>\n",
       "      <td>jaws   is a rare film that grabs your attent...</td>\n",
       "      <td>-21</td>\n",
       "      <td>-9</td>\n",
       "      <td>0.066679</td>\n",
       "      <td>0.9373</td>\n",
       "    </tr>\n",
       "    <tr>\n",
       "      <th>4</th>\n",
       "      <td>1</td>\n",
       "      <td>moviemaking is a lot like being the general ma...</td>\n",
       "      <td>-7</td>\n",
       "      <td>-5</td>\n",
       "      <td>0.054987</td>\n",
       "      <td>0.9819</td>\n",
       "    </tr>\n",
       "  </tbody>\n",
       "</table>\n",
       "</div>"
      ],
      "text/plain": [
       "   labeled_sentiment                                        review_text  \\\n",
       "0                  1  films adapted from comic books have had plenty...   \n",
       "1                  1  every now and then a movie comes along from a ...   \n",
       "2                  1  you've got mail works alot better than it dese...   \n",
       "3                  1    jaws   is a rare film that grabs your attent...   \n",
       "4                  1  moviemaking is a lot like being the general ma...   \n",
       "\n",
       "   netcnt_BL  netcnt_LM  score_TextBlob  compound_Vader  \n",
       "0        -20         -6       -0.061036         -0.9905  \n",
       "1        -12         -5        0.088390          0.8319  \n",
       "2          4          5        0.081941          0.9887  \n",
       "3        -21         -9        0.066679          0.9373  \n",
       "4         -7         -5        0.054987          0.9819  "
      ]
     },
     "execution_count": 25,
     "metadata": {},
     "output_type": "execute_result"
    }
   ],
   "source": [
    "#show df1 only contain 'labeled_sentiment', 'review_text','netcnt_BL', 'netcnt_LM', 'score_TextBlob', 'compound_Vader'\n",
    "df1 = df[['labeled_sentiment', 'review_text','netcnt_BL', 'netcnt_LM', 'score_TextBlob', 'compound_Vader']]\n",
    "df1.head()"
   ]
  },
  {
   "cell_type": "code",
   "execution_count": 26,
   "id": "d60df951",
   "metadata": {},
   "outputs": [],
   "source": [
    "#make copy\n",
    "df2 = df1.copy()\n",
    "# get the Bing Liu Lexicon, if netcnt_BL > 0, the BL_score is 1, if not, the BL_score is 0\n",
    "df2.loc[df1['netcnt_BL'] > 0, 'BL_score'] = 1\n",
    "df2.loc[df1['netcnt_BL'] <= 0, 'BL_score'] = 0\n",
    "\n",
    "# get the LM dictionary, if netcnt_LM > 0, the LM_score is 1, if not, the LM_score is 0\n",
    "df2.loc[df1['netcnt_LM'] > 0, 'LM_score'] = 1\n",
    "df2.loc[df1['netcnt_LM'] <= 0, 'LM_score'] = 0\n",
    "\n",
    "# get the TextBlob, if score_TextBlob > 0, the TB_score is 1, if not, the TB_score is 0\n",
    "df2.loc[df1['score_TextBlob'] > 0, 'TB_score'] = 1\n",
    "df2.loc[df1['score_TextBlob'] <= 0, 'TB_score'] = 0\n",
    "\n",
    "# get the Vader score, if compound_Vader > 0, the VD_score is 1, if not, the VD_score is 0\n",
    "df2.loc[df1['compound_Vader'] > 0, 'VD_score'] = 1\n",
    "df2.loc[df1['compound_Vader'] <= 0, 'VD_score'] = 0"
   ]
  },
  {
   "cell_type": "code",
   "execution_count": 27,
   "id": "889ef40f",
   "metadata": {},
   "outputs": [
    {
     "data": {
      "text/html": [
       "<div>\n",
       "<style scoped>\n",
       "    .dataframe tbody tr th:only-of-type {\n",
       "        vertical-align: middle;\n",
       "    }\n",
       "\n",
       "    .dataframe tbody tr th {\n",
       "        vertical-align: top;\n",
       "    }\n",
       "\n",
       "    .dataframe thead th {\n",
       "        text-align: right;\n",
       "    }\n",
       "</style>\n",
       "<table border=\"1\" class=\"dataframe\">\n",
       "  <thead>\n",
       "    <tr style=\"text-align: right;\">\n",
       "      <th></th>\n",
       "      <th>labeled_sentiment</th>\n",
       "      <th>review_text</th>\n",
       "      <th>netcnt_BL</th>\n",
       "      <th>netcnt_LM</th>\n",
       "      <th>score_TextBlob</th>\n",
       "      <th>compound_Vader</th>\n",
       "      <th>BL_score</th>\n",
       "      <th>LM_score</th>\n",
       "      <th>TB_score</th>\n",
       "      <th>VD_score</th>\n",
       "    </tr>\n",
       "  </thead>\n",
       "  <tbody>\n",
       "    <tr>\n",
       "      <th>0</th>\n",
       "      <td>1</td>\n",
       "      <td>films adapted from comic books have had plenty...</td>\n",
       "      <td>-20</td>\n",
       "      <td>-6</td>\n",
       "      <td>-0.061036</td>\n",
       "      <td>-0.9905</td>\n",
       "      <td>0.0</td>\n",
       "      <td>0.0</td>\n",
       "      <td>0.0</td>\n",
       "      <td>0.0</td>\n",
       "    </tr>\n",
       "    <tr>\n",
       "      <th>1</th>\n",
       "      <td>1</td>\n",
       "      <td>every now and then a movie comes along from a ...</td>\n",
       "      <td>-12</td>\n",
       "      <td>-5</td>\n",
       "      <td>0.088390</td>\n",
       "      <td>0.8319</td>\n",
       "      <td>0.0</td>\n",
       "      <td>0.0</td>\n",
       "      <td>1.0</td>\n",
       "      <td>1.0</td>\n",
       "    </tr>\n",
       "    <tr>\n",
       "      <th>2</th>\n",
       "      <td>1</td>\n",
       "      <td>you've got mail works alot better than it dese...</td>\n",
       "      <td>4</td>\n",
       "      <td>5</td>\n",
       "      <td>0.081941</td>\n",
       "      <td>0.9887</td>\n",
       "      <td>1.0</td>\n",
       "      <td>1.0</td>\n",
       "      <td>1.0</td>\n",
       "      <td>1.0</td>\n",
       "    </tr>\n",
       "    <tr>\n",
       "      <th>3</th>\n",
       "      <td>1</td>\n",
       "      <td>jaws   is a rare film that grabs your attent...</td>\n",
       "      <td>-21</td>\n",
       "      <td>-9</td>\n",
       "      <td>0.066679</td>\n",
       "      <td>0.9373</td>\n",
       "      <td>0.0</td>\n",
       "      <td>0.0</td>\n",
       "      <td>1.0</td>\n",
       "      <td>1.0</td>\n",
       "    </tr>\n",
       "    <tr>\n",
       "      <th>4</th>\n",
       "      <td>1</td>\n",
       "      <td>moviemaking is a lot like being the general ma...</td>\n",
       "      <td>-7</td>\n",
       "      <td>-5</td>\n",
       "      <td>0.054987</td>\n",
       "      <td>0.9819</td>\n",
       "      <td>0.0</td>\n",
       "      <td>0.0</td>\n",
       "      <td>1.0</td>\n",
       "      <td>1.0</td>\n",
       "    </tr>\n",
       "  </tbody>\n",
       "</table>\n",
       "</div>"
      ],
      "text/plain": [
       "   labeled_sentiment                                        review_text  \\\n",
       "0                  1  films adapted from comic books have had plenty...   \n",
       "1                  1  every now and then a movie comes along from a ...   \n",
       "2                  1  you've got mail works alot better than it dese...   \n",
       "3                  1    jaws   is a rare film that grabs your attent...   \n",
       "4                  1  moviemaking is a lot like being the general ma...   \n",
       "\n",
       "   netcnt_BL  netcnt_LM  score_TextBlob  compound_Vader  BL_score  LM_score  \\\n",
       "0        -20         -6       -0.061036         -0.9905       0.0       0.0   \n",
       "1        -12         -5        0.088390          0.8319       0.0       0.0   \n",
       "2          4          5        0.081941          0.9887       1.0       1.0   \n",
       "3        -21         -9        0.066679          0.9373       0.0       0.0   \n",
       "4         -7         -5        0.054987          0.9819       0.0       0.0   \n",
       "\n",
       "   TB_score  VD_score  \n",
       "0       0.0       0.0  \n",
       "1       1.0       1.0  \n",
       "2       1.0       1.0  \n",
       "3       1.0       1.0  \n",
       "4       1.0       1.0  "
      ]
     },
     "execution_count": 27,
     "metadata": {},
     "output_type": "execute_result"
    }
   ],
   "source": [
    "#show df2\n",
    "df2.head()"
   ]
  },
  {
   "cell_type": "code",
   "execution_count": 28,
   "id": "3393546f",
   "metadata": {},
   "outputs": [
    {
     "data": {
      "text/html": [
       "<div>\n",
       "<style scoped>\n",
       "    .dataframe tbody tr th:only-of-type {\n",
       "        vertical-align: middle;\n",
       "    }\n",
       "\n",
       "    .dataframe tbody tr th {\n",
       "        vertical-align: top;\n",
       "    }\n",
       "\n",
       "    .dataframe thead th {\n",
       "        text-align: right;\n",
       "    }\n",
       "</style>\n",
       "<table border=\"1\" class=\"dataframe\">\n",
       "  <thead>\n",
       "    <tr style=\"text-align: right;\">\n",
       "      <th></th>\n",
       "      <th>labeled_sentiment</th>\n",
       "      <th>BL_score</th>\n",
       "      <th>LM_score</th>\n",
       "      <th>TB_score</th>\n",
       "      <th>VD_score</th>\n",
       "    </tr>\n",
       "  </thead>\n",
       "  <tbody>\n",
       "    <tr>\n",
       "      <th>0</th>\n",
       "      <td>1</td>\n",
       "      <td>0.0</td>\n",
       "      <td>0.0</td>\n",
       "      <td>0.0</td>\n",
       "      <td>0.0</td>\n",
       "    </tr>\n",
       "    <tr>\n",
       "      <th>1</th>\n",
       "      <td>1</td>\n",
       "      <td>0.0</td>\n",
       "      <td>0.0</td>\n",
       "      <td>1.0</td>\n",
       "      <td>1.0</td>\n",
       "    </tr>\n",
       "    <tr>\n",
       "      <th>2</th>\n",
       "      <td>1</td>\n",
       "      <td>1.0</td>\n",
       "      <td>1.0</td>\n",
       "      <td>1.0</td>\n",
       "      <td>1.0</td>\n",
       "    </tr>\n",
       "    <tr>\n",
       "      <th>3</th>\n",
       "      <td>1</td>\n",
       "      <td>0.0</td>\n",
       "      <td>0.0</td>\n",
       "      <td>1.0</td>\n",
       "      <td>1.0</td>\n",
       "    </tr>\n",
       "    <tr>\n",
       "      <th>4</th>\n",
       "      <td>1</td>\n",
       "      <td>0.0</td>\n",
       "      <td>0.0</td>\n",
       "      <td>1.0</td>\n",
       "      <td>1.0</td>\n",
       "    </tr>\n",
       "  </tbody>\n",
       "</table>\n",
       "</div>"
      ],
      "text/plain": [
       "   labeled_sentiment  BL_score  LM_score  TB_score  VD_score\n",
       "0                  1       0.0       0.0       0.0       0.0\n",
       "1                  1       0.0       0.0       1.0       1.0\n",
       "2                  1       1.0       1.0       1.0       1.0\n",
       "3                  1       0.0       0.0       1.0       1.0\n",
       "4                  1       0.0       0.0       1.0       1.0"
      ]
     },
     "execution_count": 28,
     "metadata": {},
     "output_type": "execute_result"
    }
   ],
   "source": [
    "# make df3 only have 'labeled_sentiment', 'BL_score', 'LM_score', 'TB_score', 'VD_score' column\n",
    "df3 = df2[['labeled_sentiment', 'BL_score', 'LM_score', 'TB_score', 'VD_score']]\n",
    "df3.head()"
   ]
  },
  {
   "cell_type": "code",
   "execution_count": 29,
   "id": "a139fc29",
   "metadata": {},
   "outputs": [],
   "source": [
    "from sklearn import metrics"
   ]
  },
  {
   "cell_type": "code",
   "execution_count": 30,
   "id": "4ac52948",
   "metadata": {},
   "outputs": [
    {
     "data": {
      "text/plain": [
       "array([[966,  34],\n",
       "       [867, 133]], dtype=int64)"
      ]
     },
     "execution_count": 30,
     "metadata": {},
     "output_type": "execute_result"
    }
   ],
   "source": [
    "# create confusion matrix for BL_score\n",
    "matrixBL = metrics.confusion_matrix(df3['labeled_sentiment'], df3['BL_score'])\n",
    "matrixBL"
   ]
  },
  {
   "cell_type": "code",
   "execution_count": 31,
   "id": "0fe3f2cc",
   "metadata": {},
   "outputs": [
    {
     "data": {
      "text/plain": [
       "array([[931,  69],\n",
       "       [840, 160]], dtype=int64)"
      ]
     },
     "execution_count": 31,
     "metadata": {},
     "output_type": "execute_result"
    }
   ],
   "source": [
    "# create confusion matrix for LM_score \n",
    "matrixLM = metrics.confusion_matrix(df3['labeled_sentiment'], df3['LM_score'])\n",
    "matrixLM"
   ]
  },
  {
   "cell_type": "code",
   "execution_count": 32,
   "id": "e9cc5d69",
   "metadata": {},
   "outputs": [
    {
     "data": {
      "text/plain": [
       "array([[274, 726],\n",
       "       [ 79, 921]], dtype=int64)"
      ]
     },
     "execution_count": 32,
     "metadata": {},
     "output_type": "execute_result"
    }
   ],
   "source": [
    "# create confusion matrix for TB_score \n",
    "matrixTB = metrics.confusion_matrix(df3['labeled_sentiment'], df3['TB_score'])\n",
    "matrixTB"
   ]
  },
  {
   "cell_type": "code",
   "execution_count": 33,
   "id": "072986be",
   "metadata": {},
   "outputs": [
    {
     "data": {
      "text/plain": [
       "array([[489, 511],\n",
       "       [268, 732]], dtype=int64)"
      ]
     },
     "execution_count": 33,
     "metadata": {},
     "output_type": "execute_result"
    }
   ],
   "source": [
    "# create confusion matrix for VD_score \n",
    "matrixV = metrics.confusion_matrix(df3['labeled_sentiment'], df3['VD_score'])\n",
    "matrixV"
   ]
  },
  {
   "cell_type": "code",
   "execution_count": 34,
   "id": "4f17f482",
   "metadata": {},
   "outputs": [],
   "source": [
    "# define the function to calculation of precision, recall and F_measure\n",
    "def validation(y_actual, y_predicted):\n",
    "    precision = round(metrics.precision_score(y_actual, y_predicted), 3)\n",
    "    recall = round(metrics.recall_score(y_actual, y_predicted), 3)\n",
    "    F_measure = round((2 * precision * recall) / (precision + recall), 3)\n",
    "    return precision, recall, F_measure"
   ]
  },
  {
   "cell_type": "code",
   "execution_count": 35,
   "id": "ccdd7b86",
   "metadata": {},
   "outputs": [],
   "source": [
    "# get the precision, recall and F_measure of each approach\n",
    "matrixBL = validation(df3['labeled_sentiment'], df3['BL_score'])\n",
    "matrixLM = validation(df3['labeled_sentiment'], df3['LM_score'])\n",
    "matrixTB = validation(df3['labeled_sentiment'], df3['TB_score'])\n",
    "matrixV = validation(df3['labeled_sentiment'], df3['VD_score'])"
   ]
  },
  {
   "cell_type": "code",
   "execution_count": 36,
   "id": "ad150f31",
   "metadata": {},
   "outputs": [
    {
     "data": {
      "text/html": [
       "<div>\n",
       "<style scoped>\n",
       "    .dataframe tbody tr th:only-of-type {\n",
       "        vertical-align: middle;\n",
       "    }\n",
       "\n",
       "    .dataframe tbody tr th {\n",
       "        vertical-align: top;\n",
       "    }\n",
       "\n",
       "    .dataframe thead th {\n",
       "        text-align: right;\n",
       "    }\n",
       "</style>\n",
       "<table border=\"1\" class=\"dataframe\">\n",
       "  <thead>\n",
       "    <tr style=\"text-align: right;\">\n",
       "      <th></th>\n",
       "      <th>approach</th>\n",
       "      <th>precision</th>\n",
       "      <th>recall</th>\n",
       "      <th>F_measure</th>\n",
       "    </tr>\n",
       "  </thead>\n",
       "  <tbody>\n",
       "    <tr>\n",
       "      <th>0</th>\n",
       "      <td>BL</td>\n",
       "      <td>0.796</td>\n",
       "      <td>0.133</td>\n",
       "      <td>0.228</td>\n",
       "    </tr>\n",
       "    <tr>\n",
       "      <th>1</th>\n",
       "      <td>LM</td>\n",
       "      <td>0.699</td>\n",
       "      <td>0.160</td>\n",
       "      <td>0.260</td>\n",
       "    </tr>\n",
       "    <tr>\n",
       "      <th>2</th>\n",
       "      <td>TB</td>\n",
       "      <td>0.559</td>\n",
       "      <td>0.921</td>\n",
       "      <td>0.696</td>\n",
       "    </tr>\n",
       "    <tr>\n",
       "      <th>3</th>\n",
       "      <td>Vader</td>\n",
       "      <td>0.589</td>\n",
       "      <td>0.732</td>\n",
       "      <td>0.653</td>\n",
       "    </tr>\n",
       "  </tbody>\n",
       "</table>\n",
       "</div>"
      ],
      "text/plain": [
       "  approach  precision  recall  F_measure\n",
       "0       BL      0.796   0.133      0.228\n",
       "1       LM      0.699   0.160      0.260\n",
       "2       TB      0.559   0.921      0.696\n",
       "3    Vader      0.589   0.732      0.653"
      ]
     },
     "execution_count": 36,
     "metadata": {},
     "output_type": "execute_result"
    }
   ],
   "source": [
    "#show each approaches' 'precision', 'recall', 'F_measure'\n",
    "result = pd.DataFrame([matrixBL, matrixLM, matrixTB, matrixV], columns = ['precision', 'recall', 'F_measure'] )\n",
    "result.insert(0, 'approach',['BL', 'LM', 'TB', 'Vader'], True)\n",
    "result"
   ]
  },
  {
   "cell_type": "code",
   "execution_count": 37,
   "id": "aaf3c5cb",
   "metadata": {},
   "outputs": [
    {
     "data": {
      "text/html": [
       "<style  type=\"text/css\" >\n",
       "#T_012c9_row0_col1,#T_012c9_row2_col2,#T_012c9_row2_col3{\n",
       "            background-color:  red;\n",
       "        }</style><table id=\"T_012c9_\" ><thead>    <tr>        <th class=\"blank level0\" ></th>        <th class=\"col_heading level0 col0\" >approach</th>        <th class=\"col_heading level0 col1\" >precision</th>        <th class=\"col_heading level0 col2\" >recall</th>        <th class=\"col_heading level0 col3\" >F_measure</th>    </tr></thead><tbody>\n",
       "                <tr>\n",
       "                        <th id=\"T_012c9_level0_row0\" class=\"row_heading level0 row0\" >0</th>\n",
       "                        <td id=\"T_012c9_row0_col0\" class=\"data row0 col0\" >BL</td>\n",
       "                        <td id=\"T_012c9_row0_col1\" class=\"data row0 col1\" >0.796000</td>\n",
       "                        <td id=\"T_012c9_row0_col2\" class=\"data row0 col2\" >0.133000</td>\n",
       "                        <td id=\"T_012c9_row0_col3\" class=\"data row0 col3\" >0.228000</td>\n",
       "            </tr>\n",
       "            <tr>\n",
       "                        <th id=\"T_012c9_level0_row1\" class=\"row_heading level0 row1\" >1</th>\n",
       "                        <td id=\"T_012c9_row1_col0\" class=\"data row1 col0\" >LM</td>\n",
       "                        <td id=\"T_012c9_row1_col1\" class=\"data row1 col1\" >0.699000</td>\n",
       "                        <td id=\"T_012c9_row1_col2\" class=\"data row1 col2\" >0.160000</td>\n",
       "                        <td id=\"T_012c9_row1_col3\" class=\"data row1 col3\" >0.260000</td>\n",
       "            </tr>\n",
       "            <tr>\n",
       "                        <th id=\"T_012c9_level0_row2\" class=\"row_heading level0 row2\" >2</th>\n",
       "                        <td id=\"T_012c9_row2_col0\" class=\"data row2 col0\" >TB</td>\n",
       "                        <td id=\"T_012c9_row2_col1\" class=\"data row2 col1\" >0.559000</td>\n",
       "                        <td id=\"T_012c9_row2_col2\" class=\"data row2 col2\" >0.921000</td>\n",
       "                        <td id=\"T_012c9_row2_col3\" class=\"data row2 col3\" >0.696000</td>\n",
       "            </tr>\n",
       "            <tr>\n",
       "                        <th id=\"T_012c9_level0_row3\" class=\"row_heading level0 row3\" >3</th>\n",
       "                        <td id=\"T_012c9_row3_col0\" class=\"data row3 col0\" >Vader</td>\n",
       "                        <td id=\"T_012c9_row3_col1\" class=\"data row3 col1\" >0.589000</td>\n",
       "                        <td id=\"T_012c9_row3_col2\" class=\"data row3 col2\" >0.732000</td>\n",
       "                        <td id=\"T_012c9_row3_col3\" class=\"data row3 col3\" >0.653000</td>\n",
       "            </tr>\n",
       "    </tbody></table>"
      ],
      "text/plain": [
       "<pandas.io.formats.style.Styler at 0x24571113160>"
      ]
     },
     "execution_count": 37,
     "metadata": {},
     "output_type": "execute_result"
    }
   ],
   "source": [
    "# Highlighting the maximum values of each column\n",
    "result.style.highlight_max(color = 'red', axis = 0)"
   ]
  },
  {
   "cell_type": "markdown",
   "id": "14bef72e",
   "metadata": {},
   "source": [
    "# Q2"
   ]
  },
  {
   "cell_type": "code",
   "execution_count": 38,
   "id": "e046b773",
   "metadata": {},
   "outputs": [],
   "source": [
    "#!pip install numpy"
   ]
  },
  {
   "cell_type": "code",
   "execution_count": 39,
   "id": "c3e6db7c",
   "metadata": {},
   "outputs": [
    {
     "data": {
      "text/plain": [
       "'1.20.1'"
      ]
     },
     "execution_count": 39,
     "metadata": {},
     "output_type": "execute_result"
    }
   ],
   "source": [
    "import numpy\n",
    "numpy.__version__"
   ]
  },
  {
   "cell_type": "code",
   "execution_count": 40,
   "id": "b5e74e3e",
   "metadata": {},
   "outputs": [],
   "source": [
    "import matplotlib.pyplot as plt\n",
    "import re\n",
    "import os\n",
    "import pandas as pd\n",
    "import numpy as np\n",
    "\n",
    "import nltk\n",
    "from nltk.tokenize import word_tokenize\n",
    "from nltk import PorterStemmer\n",
    "from nltk import WordNetLemmatizer\n",
    "from nltk.corpus import stopwords\n",
    "\n",
    "from sklearn.feature_extraction.text import CountVectorizer\n",
    "from sklearn.model_selection import train_test_split\n",
    "from sklearn.feature_extraction.text import TfidfVectorizer\n",
    "from sklearn import metrics\n",
    "\n"
   ]
  },
  {
   "cell_type": "code",
   "execution_count": 41,
   "id": "c9615c12",
   "metadata": {},
   "outputs": [
    {
     "name": "stderr",
     "output_type": "stream",
     "text": [
      "<ipython-input-41-dc60177ae04a>:2: SettingWithCopyWarning: \n",
      "A value is trying to be set on a copy of a slice from a DataFrame.\n",
      "Try using .loc[row_indexer,col_indexer] = value instead\n",
      "\n",
      "See the caveats in the documentation: https://pandas.pydata.org/pandas-docs/stable/user_guide/indexing.html#returning-a-view-versus-a-copy\n",
      "  df3['vote'] =  df3['BL_score'] + df3['TB_score'] + df3['VD_score']\n"
     ]
    },
    {
     "data": {
      "text/html": [
       "<div>\n",
       "<style scoped>\n",
       "    .dataframe tbody tr th:only-of-type {\n",
       "        vertical-align: middle;\n",
       "    }\n",
       "\n",
       "    .dataframe tbody tr th {\n",
       "        vertical-align: top;\n",
       "    }\n",
       "\n",
       "    .dataframe thead th {\n",
       "        text-align: right;\n",
       "    }\n",
       "</style>\n",
       "<table border=\"1\" class=\"dataframe\">\n",
       "  <thead>\n",
       "    <tr style=\"text-align: right;\">\n",
       "      <th></th>\n",
       "      <th>labeled_sentiment</th>\n",
       "      <th>BL_score</th>\n",
       "      <th>LM_score</th>\n",
       "      <th>TB_score</th>\n",
       "      <th>VD_score</th>\n",
       "      <th>vote</th>\n",
       "    </tr>\n",
       "  </thead>\n",
       "  <tbody>\n",
       "    <tr>\n",
       "      <th>0</th>\n",
       "      <td>1</td>\n",
       "      <td>0.0</td>\n",
       "      <td>0.0</td>\n",
       "      <td>0.0</td>\n",
       "      <td>0.0</td>\n",
       "      <td>0.0</td>\n",
       "    </tr>\n",
       "    <tr>\n",
       "      <th>1</th>\n",
       "      <td>1</td>\n",
       "      <td>0.0</td>\n",
       "      <td>0.0</td>\n",
       "      <td>1.0</td>\n",
       "      <td>1.0</td>\n",
       "      <td>2.0</td>\n",
       "    </tr>\n",
       "    <tr>\n",
       "      <th>2</th>\n",
       "      <td>1</td>\n",
       "      <td>1.0</td>\n",
       "      <td>1.0</td>\n",
       "      <td>1.0</td>\n",
       "      <td>1.0</td>\n",
       "      <td>3.0</td>\n",
       "    </tr>\n",
       "    <tr>\n",
       "      <th>3</th>\n",
       "      <td>1</td>\n",
       "      <td>0.0</td>\n",
       "      <td>0.0</td>\n",
       "      <td>1.0</td>\n",
       "      <td>1.0</td>\n",
       "      <td>2.0</td>\n",
       "    </tr>\n",
       "    <tr>\n",
       "      <th>4</th>\n",
       "      <td>1</td>\n",
       "      <td>0.0</td>\n",
       "      <td>0.0</td>\n",
       "      <td>1.0</td>\n",
       "      <td>1.0</td>\n",
       "      <td>2.0</td>\n",
       "    </tr>\n",
       "  </tbody>\n",
       "</table>\n",
       "</div>"
      ],
      "text/plain": [
       "   labeled_sentiment  BL_score  LM_score  TB_score  VD_score  vote\n",
       "0                  1       0.0       0.0       0.0       0.0   0.0\n",
       "1                  1       0.0       0.0       1.0       1.0   2.0\n",
       "2                  1       1.0       1.0       1.0       1.0   3.0\n",
       "3                  1       0.0       0.0       1.0       1.0   2.0\n",
       "4                  1       0.0       0.0       1.0       1.0   2.0"
      ]
     },
     "execution_count": 41,
     "metadata": {},
     "output_type": "execute_result"
    }
   ],
   "source": [
    "# Add 3 scores get majority vote\n",
    "df3['vote'] =  df3['BL_score'] + df3['TB_score'] + df3['VD_score']\n",
    "df3.head()"
   ]
  },
  {
   "cell_type": "code",
   "execution_count": 42,
   "id": "3447a707",
   "metadata": {},
   "outputs": [
    {
     "name": "stderr",
     "output_type": "stream",
     "text": [
      "D:\\anaconda3\\lib\\site-packages\\pandas\\core\\indexing.py:1599: SettingWithCopyWarning: \n",
      "A value is trying to be set on a copy of a slice from a DataFrame.\n",
      "Try using .loc[row_indexer,col_indexer] = value instead\n",
      "\n",
      "See the caveats in the documentation: https://pandas.pydata.org/pandas-docs/stable/user_guide/indexing.html#returning-a-view-versus-a-copy\n",
      "  self.obj[key] = infer_fill_value(value)\n",
      "D:\\anaconda3\\lib\\site-packages\\pandas\\core\\indexing.py:1720: SettingWithCopyWarning: \n",
      "A value is trying to be set on a copy of a slice from a DataFrame.\n",
      "Try using .loc[row_indexer,col_indexer] = value instead\n",
      "\n",
      "See the caveats in the documentation: https://pandas.pydata.org/pandas-docs/stable/user_guide/indexing.html#returning-a-view-versus-a-copy\n",
      "  self._setitem_single_column(loc, value, pi)\n",
      "D:\\anaconda3\\lib\\site-packages\\pandas\\core\\indexing.py:1720: SettingWithCopyWarning: \n",
      "A value is trying to be set on a copy of a slice from a DataFrame.\n",
      "Try using .loc[row_indexer,col_indexer] = value instead\n",
      "\n",
      "See the caveats in the documentation: https://pandas.pydata.org/pandas-docs/stable/user_guide/indexing.html#returning-a-view-versus-a-copy\n",
      "  self._setitem_single_column(loc, value, pi)\n"
     ]
    },
    {
     "data": {
      "text/html": [
       "<div>\n",
       "<style scoped>\n",
       "    .dataframe tbody tr th:only-of-type {\n",
       "        vertical-align: middle;\n",
       "    }\n",
       "\n",
       "    .dataframe tbody tr th {\n",
       "        vertical-align: top;\n",
       "    }\n",
       "\n",
       "    .dataframe thead th {\n",
       "        text-align: right;\n",
       "    }\n",
       "</style>\n",
       "<table border=\"1\" class=\"dataframe\">\n",
       "  <thead>\n",
       "    <tr style=\"text-align: right;\">\n",
       "      <th></th>\n",
       "      <th>labeled_sentiment</th>\n",
       "      <th>BL_score</th>\n",
       "      <th>LM_score</th>\n",
       "      <th>TB_score</th>\n",
       "      <th>VD_score</th>\n",
       "      <th>vote</th>\n",
       "      <th>score_vote</th>\n",
       "    </tr>\n",
       "  </thead>\n",
       "  <tbody>\n",
       "    <tr>\n",
       "      <th>0</th>\n",
       "      <td>1</td>\n",
       "      <td>0.0</td>\n",
       "      <td>0.0</td>\n",
       "      <td>0.0</td>\n",
       "      <td>0.0</td>\n",
       "      <td>0.0</td>\n",
       "      <td>0.0</td>\n",
       "    </tr>\n",
       "    <tr>\n",
       "      <th>1</th>\n",
       "      <td>1</td>\n",
       "      <td>0.0</td>\n",
       "      <td>0.0</td>\n",
       "      <td>1.0</td>\n",
       "      <td>1.0</td>\n",
       "      <td>2.0</td>\n",
       "      <td>1.0</td>\n",
       "    </tr>\n",
       "    <tr>\n",
       "      <th>2</th>\n",
       "      <td>1</td>\n",
       "      <td>1.0</td>\n",
       "      <td>1.0</td>\n",
       "      <td>1.0</td>\n",
       "      <td>1.0</td>\n",
       "      <td>3.0</td>\n",
       "      <td>1.0</td>\n",
       "    </tr>\n",
       "    <tr>\n",
       "      <th>3</th>\n",
       "      <td>1</td>\n",
       "      <td>0.0</td>\n",
       "      <td>0.0</td>\n",
       "      <td>1.0</td>\n",
       "      <td>1.0</td>\n",
       "      <td>2.0</td>\n",
       "      <td>1.0</td>\n",
       "    </tr>\n",
       "    <tr>\n",
       "      <th>4</th>\n",
       "      <td>1</td>\n",
       "      <td>0.0</td>\n",
       "      <td>0.0</td>\n",
       "      <td>1.0</td>\n",
       "      <td>1.0</td>\n",
       "      <td>2.0</td>\n",
       "      <td>1.0</td>\n",
       "    </tr>\n",
       "  </tbody>\n",
       "</table>\n",
       "</div>"
      ],
      "text/plain": [
       "   labeled_sentiment  BL_score  LM_score  TB_score  VD_score  vote  score_vote\n",
       "0                  1       0.0       0.0       0.0       0.0   0.0         0.0\n",
       "1                  1       0.0       0.0       1.0       1.0   2.0         1.0\n",
       "2                  1       1.0       1.0       1.0       1.0   3.0         1.0\n",
       "3                  1       0.0       0.0       1.0       1.0   2.0         1.0\n",
       "4                  1       0.0       0.0       1.0       1.0   2.0         1.0"
      ]
     },
     "execution_count": 42,
     "metadata": {},
     "output_type": "execute_result"
    }
   ],
   "source": [
    "# Use majority vote to get new vote , if new vote > 1, new vote = 1, else new vote = 0\n",
    "df3.loc[df3['vote'] > 1, 'score_vote'] = 1\n",
    "df3.loc[df3['vote'] <= 1, 'score_vote'] = 0\n",
    "df3.head()"
   ]
  },
  {
   "cell_type": "code",
   "execution_count": 43,
   "id": "4017e784",
   "metadata": {},
   "outputs": [
    {
     "data": {
      "text/plain": [
       "(0.613, 0.715, 0.66)"
      ]
     },
     "execution_count": 43,
     "metadata": {},
     "output_type": "execute_result"
    }
   ],
   "source": [
    "# use defined the validation function\n",
    "vote_validation = validation(df3['labeled_sentiment'], df3['score_vote'])\n",
    "vote_validation"
   ]
  },
  {
   "cell_type": "code",
   "execution_count": 44,
   "id": "3654ed0f",
   "metadata": {},
   "outputs": [
    {
     "data": {
      "text/html": [
       "<div>\n",
       "<style scoped>\n",
       "    .dataframe tbody tr th:only-of-type {\n",
       "        vertical-align: middle;\n",
       "    }\n",
       "\n",
       "    .dataframe tbody tr th {\n",
       "        vertical-align: top;\n",
       "    }\n",
       "\n",
       "    .dataframe thead th {\n",
       "        text-align: right;\n",
       "    }\n",
       "</style>\n",
       "<table border=\"1\" class=\"dataframe\">\n",
       "  <thead>\n",
       "    <tr style=\"text-align: right;\">\n",
       "      <th></th>\n",
       "      <th>precision</th>\n",
       "      <th>recall</th>\n",
       "      <th>F_measure</th>\n",
       "    </tr>\n",
       "  </thead>\n",
       "  <tbody>\n",
       "    <tr>\n",
       "      <th>0</th>\n",
       "      <td>0.796</td>\n",
       "      <td>0.133</td>\n",
       "      <td>0.228</td>\n",
       "    </tr>\n",
       "    <tr>\n",
       "      <th>1</th>\n",
       "      <td>0.559</td>\n",
       "      <td>0.921</td>\n",
       "      <td>0.696</td>\n",
       "    </tr>\n",
       "    <tr>\n",
       "      <th>2</th>\n",
       "      <td>0.589</td>\n",
       "      <td>0.732</td>\n",
       "      <td>0.653</td>\n",
       "    </tr>\n",
       "    <tr>\n",
       "      <th>3</th>\n",
       "      <td>0.613</td>\n",
       "      <td>0.715</td>\n",
       "      <td>0.660</td>\n",
       "    </tr>\n",
       "  </tbody>\n",
       "</table>\n",
       "</div>"
      ],
      "text/plain": [
       "   precision  recall  F_measure\n",
       "0      0.796   0.133      0.228\n",
       "1      0.559   0.921      0.696\n",
       "2      0.589   0.732      0.653\n",
       "3      0.613   0.715      0.660"
      ]
     },
     "execution_count": 44,
     "metadata": {},
     "output_type": "execute_result"
    }
   ],
   "source": [
    "result2 = pd.DataFrame([matrixBL, matrixTB, matrixV, vote_validation], columns = [ 'precision', 'recall', 'F_measure'] )\n",
    "result2"
   ]
  },
  {
   "cell_type": "code",
   "execution_count": 45,
   "id": "c191d485",
   "metadata": {},
   "outputs": [
    {
     "data": {
      "text/html": [
       "<div>\n",
       "<style scoped>\n",
       "    .dataframe tbody tr th:only-of-type {\n",
       "        vertical-align: middle;\n",
       "    }\n",
       "\n",
       "    .dataframe tbody tr th {\n",
       "        vertical-align: top;\n",
       "    }\n",
       "\n",
       "    .dataframe thead th {\n",
       "        text-align: right;\n",
       "    }\n",
       "</style>\n",
       "<table border=\"1\" class=\"dataframe\">\n",
       "  <thead>\n",
       "    <tr style=\"text-align: right;\">\n",
       "      <th></th>\n",
       "      <th>approach</th>\n",
       "      <th>precision</th>\n",
       "      <th>recall</th>\n",
       "      <th>F_measure</th>\n",
       "    </tr>\n",
       "  </thead>\n",
       "  <tbody>\n",
       "    <tr>\n",
       "      <th>0</th>\n",
       "      <td>BingLiu Lexicon</td>\n",
       "      <td>0.796</td>\n",
       "      <td>0.133</td>\n",
       "      <td>0.228</td>\n",
       "    </tr>\n",
       "    <tr>\n",
       "      <th>1</th>\n",
       "      <td>TextBlog</td>\n",
       "      <td>0.559</td>\n",
       "      <td>0.921</td>\n",
       "      <td>0.696</td>\n",
       "    </tr>\n",
       "    <tr>\n",
       "      <th>2</th>\n",
       "      <td>Vader</td>\n",
       "      <td>0.589</td>\n",
       "      <td>0.732</td>\n",
       "      <td>0.653</td>\n",
       "    </tr>\n",
       "    <tr>\n",
       "      <th>3</th>\n",
       "      <td>Major_vote</td>\n",
       "      <td>0.613</td>\n",
       "      <td>0.715</td>\n",
       "      <td>0.660</td>\n",
       "    </tr>\n",
       "  </tbody>\n",
       "</table>\n",
       "</div>"
      ],
      "text/plain": [
       "          approach  precision  recall  F_measure\n",
       "0  BingLiu Lexicon      0.796   0.133      0.228\n",
       "1         TextBlog      0.559   0.921      0.696\n",
       "2            Vader      0.589   0.732      0.653\n",
       "3       Major_vote      0.613   0.715      0.660"
      ]
     },
     "execution_count": 45,
     "metadata": {},
     "output_type": "execute_result"
    }
   ],
   "source": [
    "#add the name to the result2\n",
    "result2.insert(0, 'approach', ['BingLiu Lexicon', 'TextBlog', 'Vader', 'Major_vote'], True)\n",
    "result2"
   ]
  },
  {
   "cell_type": "code",
   "execution_count": 46,
   "id": "91ee8472",
   "metadata": {},
   "outputs": [],
   "source": [
    "# calculate improvement percentage change\n",
    "def improvement(new, old):\n",
    "    pre_change=round((new[0]-old[0])/old[0],3)\n",
    "    rec_change=round((new[1]-old[1])/old[1],3)\n",
    "    F_change=round((new[2]-old[2])/old[2],3)\n",
    "    return pre_change, rec_change, F_change"
   ]
  },
  {
   "cell_type": "code",
   "execution_count": 47,
   "id": "7722ba2c",
   "metadata": {},
   "outputs": [
    {
     "data": {
      "text/plain": [
       "((0.796, 0.133, 0.228),\n",
       " (0.559, 0.921, 0.696),\n",
       " (0.589, 0.732, 0.653),\n",
       " (0.613, 0.715, 0.66))"
      ]
     },
     "execution_count": 47,
     "metadata": {},
     "output_type": "execute_result"
    }
   ],
   "source": [
    "matrixBL, matrixTB, matrixV, vote_validation"
   ]
  },
  {
   "cell_type": "code",
   "execution_count": 48,
   "id": "a8db6ef6",
   "metadata": {},
   "outputs": [],
   "source": [
    "# vote 2 improvement compairng to vote \n",
    "improve_BL2 = improvement(vote_validation, matrixBL)\n",
    "improve_TB2 = improvement(vote_validation, matrixTB)\n",
    "improve_VD2 = improvement(vote_validation, matrixV)"
   ]
  },
  {
   "cell_type": "code",
   "execution_count": 49,
   "id": "7debe525",
   "metadata": {},
   "outputs": [],
   "source": [
    "# add the improvements to result1\n",
    "result3 = pd.DataFrame([improve_BL2, improve_TB2, improve_VD2], columns = [ 'precision', 'recall', 'F_measure'] )"
   ]
  },
  {
   "cell_type": "code",
   "execution_count": 50,
   "id": "2f16bf19",
   "metadata": {},
   "outputs": [],
   "source": [
    "# add the vote to the result1 dataframe\n",
    "result3.insert(0, 'approach', ['improve_BL2',  'improve_TB2', 'improve_VD2'], True)"
   ]
  },
  {
   "cell_type": "code",
   "execution_count": 51,
   "id": "6e5c4f88",
   "metadata": {},
   "outputs": [
    {
     "data": {
      "text/html": [
       "<div>\n",
       "<style scoped>\n",
       "    .dataframe tbody tr th:only-of-type {\n",
       "        vertical-align: middle;\n",
       "    }\n",
       "\n",
       "    .dataframe tbody tr th {\n",
       "        vertical-align: top;\n",
       "    }\n",
       "\n",
       "    .dataframe thead th {\n",
       "        text-align: right;\n",
       "    }\n",
       "</style>\n",
       "<table border=\"1\" class=\"dataframe\">\n",
       "  <thead>\n",
       "    <tr style=\"text-align: right;\">\n",
       "      <th></th>\n",
       "      <th>approach</th>\n",
       "      <th>precision</th>\n",
       "      <th>recall</th>\n",
       "      <th>F_measure</th>\n",
       "    </tr>\n",
       "  </thead>\n",
       "  <tbody>\n",
       "    <tr>\n",
       "      <th>0</th>\n",
       "      <td>BingLiu Lexicon</td>\n",
       "      <td>0.796</td>\n",
       "      <td>0.133</td>\n",
       "      <td>0.228</td>\n",
       "    </tr>\n",
       "    <tr>\n",
       "      <th>1</th>\n",
       "      <td>TextBlog</td>\n",
       "      <td>0.559</td>\n",
       "      <td>0.921</td>\n",
       "      <td>0.696</td>\n",
       "    </tr>\n",
       "    <tr>\n",
       "      <th>2</th>\n",
       "      <td>Vader</td>\n",
       "      <td>0.589</td>\n",
       "      <td>0.732</td>\n",
       "      <td>0.653</td>\n",
       "    </tr>\n",
       "    <tr>\n",
       "      <th>3</th>\n",
       "      <td>Major_vote</td>\n",
       "      <td>0.613</td>\n",
       "      <td>0.715</td>\n",
       "      <td>0.660</td>\n",
       "    </tr>\n",
       "    <tr>\n",
       "      <th>4</th>\n",
       "      <td>improve_BL2</td>\n",
       "      <td>-0.230</td>\n",
       "      <td>4.376</td>\n",
       "      <td>1.895</td>\n",
       "    </tr>\n",
       "    <tr>\n",
       "      <th>5</th>\n",
       "      <td>improve_TB2</td>\n",
       "      <td>0.097</td>\n",
       "      <td>-0.224</td>\n",
       "      <td>-0.052</td>\n",
       "    </tr>\n",
       "    <tr>\n",
       "      <th>6</th>\n",
       "      <td>improve_VD2</td>\n",
       "      <td>0.041</td>\n",
       "      <td>-0.023</td>\n",
       "      <td>0.011</td>\n",
       "    </tr>\n",
       "  </tbody>\n",
       "</table>\n",
       "</div>"
      ],
      "text/plain": [
       "          approach  precision  recall  F_measure\n",
       "0  BingLiu Lexicon      0.796   0.133      0.228\n",
       "1         TextBlog      0.559   0.921      0.696\n",
       "2            Vader      0.589   0.732      0.653\n",
       "3       Major_vote      0.613   0.715      0.660\n",
       "4      improve_BL2     -0.230   4.376      1.895\n",
       "5      improve_TB2      0.097  -0.224     -0.052\n",
       "6      improve_VD2      0.041  -0.023      0.011"
      ]
     },
     "execution_count": 51,
     "metadata": {},
     "output_type": "execute_result"
    }
   ],
   "source": [
    "# Combine 2 dataframe together\n",
    "df_final = pd.concat([result2, result3], ignore_index=True, axis=0)\n",
    "df_final"
   ]
  }
 ],
 "metadata": {
  "kernelspec": {
   "display_name": "Python 3",
   "language": "python",
   "name": "python3"
  },
  "language_info": {
   "codemirror_mode": {
    "name": "ipython",
    "version": 3
   },
   "file_extension": ".py",
   "mimetype": "text/x-python",
   "name": "python",
   "nbconvert_exporter": "python",
   "pygments_lexer": "ipython3",
   "version": "3.8.8"
  }
 },
 "nbformat": 4,
 "nbformat_minor": 5
}
